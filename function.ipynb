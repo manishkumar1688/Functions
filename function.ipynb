{
 "cells": [
  {
   "cell_type": "code",
   "execution_count": null,
   "id": "224d4e32-53ce-4294-bcee-929998a44c72",
   "metadata": {},
   "outputs": [],
   "source": [
    "# Functuin"
   ]
  },
  {
   "cell_type": "code",
   "execution_count": 7,
   "id": "af1f2cd2-eb18-449a-beb2-16845422c5e7",
   "metadata": {},
   "outputs": [
    {
     "name": "stdout",
     "output_type": "stream",
     "text": [
      "welcome to the office Tendua\n"
     ]
    }
   ],
   "source": [
    "def greetings(name): # while defining name is a positional parameter\n",
    "    print(\"welcome to the office\",name)\n",
    "greetings(\"Tendua\") #tendua is argument, value of parameter is argument"
   ]
  },
  {
   "cell_type": "code",
   "execution_count": 9,
   "id": "9567f824-7df1-4eb4-ab60-59db9e10f711",
   "metadata": {},
   "outputs": [
    {
     "name": "stdout",
     "output_type": "stream",
     "text": [
      "this is my first function\n"
     ]
    }
   ],
   "source": [
    "def func():\n",
    "    print(\"this is my first function\")\n",
    "func()"
   ]
  },
  {
   "cell_type": "code",
   "execution_count": 13,
   "id": "4a47a079-73a3-47bd-9351-42a3f4ea29f6",
   "metadata": {},
   "outputs": [
    {
     "name": "stdout",
     "output_type": "stream",
     "text": [
      "this is my first function\n"
     ]
    },
    {
     "ename": "TypeError",
     "evalue": "unsupported operand type(s) for +: 'NoneType' and 'str'",
     "output_type": "error",
     "traceback": [
      "\u001b[1;31m---------------------------------------------------------------------------\u001b[0m",
      "\u001b[1;31mTypeError\u001b[0m                                 Traceback (most recent call last)",
      "Cell \u001b[1;32mIn[13], line 1\u001b[0m\n\u001b[1;32m----> 1\u001b[0m func() \u001b[38;5;241m+\u001b[39m \u001b[38;5;124m\"\u001b[39m\u001b[38;5;124mhe forced me\u001b[39m\u001b[38;5;124m\"\u001b[39m\n\u001b[0;32m      2\u001b[0m \u001b[38;5;124m\"\u001b[39m\u001b[38;5;124mthis is my first function\u001b[39m\u001b[38;5;124m\"\u001b[39m \u001b[38;5;241m+\u001b[39m \u001b[38;5;124m\"\u001b[39m\u001b[38;5;124mhe forced me\u001b[39m\u001b[38;5;124m\"\u001b[39m\n",
      "\u001b[1;31mTypeError\u001b[0m: unsupported operand type(s) for +: 'NoneType' and 'str'"
     ]
    }
   ],
   "source": [
    "func() + \"he forced me\"\n",
    "\"this is my first function\" + \"he forced me\""
   ]
  },
  {
   "cell_type": "code",
   "execution_count": 15,
   "id": "8d56f74d-e864-43e6-9ead-8b13e84882b6",
   "metadata": {},
   "outputs": [],
   "source": [
    "def func():\n",
    "    print(\"manish\",12,\"tomato\")"
   ]
  },
  {
   "cell_type": "code",
   "execution_count": 17,
   "id": "9f2e8a06-a561-448c-b9de-a8d6a9163a3b",
   "metadata": {},
   "outputs": [
    {
     "name": "stdout",
     "output_type": "stream",
     "text": [
      "manish 12 tomato\n"
     ]
    }
   ],
   "source": [
    "func()"
   ]
  },
  {
   "cell_type": "code",
   "execution_count": 19,
   "id": "dd86542c-4154-4b09-8b96-6ba9315be3b9",
   "metadata": {},
   "outputs": [
    {
     "name": "stdout",
     "output_type": "stream",
     "text": [
      "manish 12 tomato\n"
     ]
    }
   ],
   "source": [
    "a = func()\n",
    "a"
   ]
  },
  {
   "cell_type": "code",
   "execution_count": null,
   "id": "fe085018-7bb0-4bf9-9d73-6459ee14d7b4",
   "metadata": {},
   "outputs": [],
   "source": [
    "#returns supports all types of data type"
   ]
  },
  {
   "cell_type": "code",
   "execution_count": 23,
   "id": "5bf094e9-a435-4990-aa9f-07e11da330a9",
   "metadata": {},
   "outputs": [
    {
     "data": {
      "text/plain": [
       "[12, 1, 3, 'manish']"
      ]
     },
     "execution_count": 23,
     "metadata": {},
     "output_type": "execute_result"
    }
   ],
   "source": [
    "def func():\n",
    "    return[12,1,3,\"manish\"]\n",
    "func()"
   ]
  },
  {
   "cell_type": "code",
   "execution_count": 25,
   "id": "543ead71-f83e-4436-a11f-a70ed9dab615",
   "metadata": {},
   "outputs": [
    {
     "data": {
      "text/plain": [
       "12"
      ]
     },
     "execution_count": 25,
     "metadata": {},
     "output_type": "execute_result"
    }
   ],
   "source": [
    "a = func()\n",
    "a[0]"
   ]
  },
  {
   "cell_type": "code",
   "execution_count": 27,
   "id": "634869d0-a23f-46cb-8189-94678943720a",
   "metadata": {},
   "outputs": [
    {
     "data": {
      "text/plain": [
       "1827498393824"
      ]
     },
     "execution_count": 27,
     "metadata": {},
     "output_type": "execute_result"
    }
   ],
   "source": [
    "id(func)"
   ]
  },
  {
   "cell_type": "code",
   "execution_count": 29,
   "id": "b5029d98-9a95-4207-8089-2b627c722f96",
   "metadata": {},
   "outputs": [
    {
     "data": {
      "text/plain": [
       "3"
      ]
     },
     "execution_count": 29,
     "metadata": {},
     "output_type": "execute_result"
    }
   ],
   "source": [
    "def addition(a,b = 0): #default argument >>\n",
    "    return(a+b)\n",
    "addition(1,2)\n"
   ]
  },
  {
   "cell_type": "code",
   "execution_count": 31,
   "id": "feb46984-8cde-4815-95b2-b362239f14a5",
   "metadata": {},
   "outputs": [
    {
     "data": {
      "text/plain": [
       "1"
      ]
     },
     "execution_count": 31,
     "metadata": {},
     "output_type": "execute_result"
    }
   ],
   "source": [
    "addition(1)"
   ]
  },
  {
   "cell_type": "code",
   "execution_count": null,
   "id": "374eaf01-fd42-4d04-8315-ecb5b6c8bc98",
   "metadata": {},
   "outputs": [],
   "source": [
    "#write a function to seperate numerical values in a given list."
   ]
  },
  {
   "cell_type": "code",
   "execution_count": null,
   "id": "8e7023f6-1d2c-46d2-82bd-80a124986ac6",
   "metadata": {},
   "outputs": [],
   "source": [
    "[1,2.2,:ajay\",[1,2,\"vijay\"]]\n"
   ]
  },
  {
   "cell_type": "code",
   "execution_count": 35,
   "id": "4cff676b-4482-4c1f-87a2-1cc4053de1cd",
   "metadata": {},
   "outputs": [
    {
     "data": {
      "text/plain": [
       "[1, 2.2, 'ajay', [1, 2, 'vijay']]"
      ]
     },
     "execution_count": 35,
     "metadata": {},
     "output_type": "execute_result"
    }
   ],
   "source": [
    "def func():\n",
    "    return[1,2.2,\"ajay\",[1,2,\"vijay\"]]\n",
    "func()"
   ]
  },
  {
   "cell_type": "code",
   "execution_count": null,
   "id": "c7022782-282a-4bd8-9524-8379d25043cb",
   "metadata": {},
   "outputs": [],
   "source": [
    "#Write a function that gives a summeration of input integar"
   ]
  },
  {
   "cell_type": "code",
   "execution_count": null,
   "id": "228a663b-aa52-4614-b3f6-04babb297b77",
   "metadata": {},
   "outputs": [],
   "source": [
    "# write a function to check if a given number in a range x,y,\n",
    "#write a function to check if a given string is palindrome or not"
   ]
  },
  {
   "cell_type": "code",
   "execution_count": null,
   "id": "83d3277b-ba44-40bd-9feb-d7a5f34c5ba0",
   "metadata": {},
   "outputs": [],
   "source": [
    "def func(*args):\n",
    "    \n"
   ]
  },
  {
   "cell_type": "code",
   "execution_count": 39,
   "id": "e8e7f7e9-f0c3-40ed-9dd7-341e8832203a",
   "metadata": {},
   "outputs": [
    {
     "data": {
      "text/plain": [
       "(3, 5, 6, 9, 10, 15)"
      ]
     },
     "execution_count": 39,
     "metadata": {},
     "output_type": "execute_result"
    }
   ],
   "source": [
    "def sum(*args):\n",
    "    return args\n",
    "sum(3,5,6,9,10,15,)"
   ]
  },
  {
   "cell_type": "code",
   "execution_count": null,
   "id": "73775aae-baa8-4255-ae27-83c5dc764c22",
   "metadata": {},
   "outputs": [],
   "source": [
    "#variable Length argument"
   ]
  },
  {
   "cell_type": "code",
   "execution_count": 43,
   "id": "d85a506d-6ab8-46ad-ab31-75c34999ea94",
   "metadata": {},
   "outputs": [
    {
     "data": {
      "text/plain": [
       "(1, 2, 3)"
      ]
     },
     "execution_count": 43,
     "metadata": {},
     "output_type": "execute_result"
    }
   ],
   "source": [
    "def func(*args):\n",
    "    return args\n",
    "func(1,2,3)"
   ]
  },
  {
   "cell_type": "code",
   "execution_count": 45,
   "id": "a777f014-3df8-435a-817d-ea6e1ea60ae7",
   "metadata": {},
   "outputs": [
    {
     "data": {
      "text/plain": [
       "((1, 2, 3), {'a': 10, 'b': 20})"
      ]
     },
     "execution_count": 45,
     "metadata": {},
     "output_type": "execute_result"
    }
   ],
   "source": [
    "def func(*args, **kwargs):\n",
    "    return args,kwargs\n",
    "func(1,2,3, a= 10,b = 20)"
   ]
  },
  {
   "cell_type": "code",
   "execution_count": null,
   "id": "4307b739-517a-4bc3-ac43-a15e856bb7ad",
   "metadata": {},
   "outputs": [],
   "source": [
    "# What and why function\n",
    "#How function is stored in python\n",
    "#What is variable and key word argument?\n",
    "#What is local and global variable"
   ]
  },
  {
   "cell_type": "code",
   "execution_count": null,
   "id": "05eb87e5-4686-40e6-8b69-7bad44377f85",
   "metadata": {},
   "outputs": [],
   "source": [
    "#Iterators "
   ]
  },
  {
   "cell_type": "code",
   "execution_count": 47,
   "id": "3e627764-c2e9-49e0-b5c1-869a20dfabac",
   "metadata": {},
   "outputs": [
    {
     "name": "stdout",
     "output_type": "stream",
     "text": [
      "1\n",
      "2\n",
      "3\n"
     ]
    }
   ],
   "source": [
    "for i in [1,2,3]:\n",
    "    print(i)\n"
   ]
  },
  {
   "cell_type": "code",
   "execution_count": null,
   "id": "1f2f9893-e0da-4337-8c15-9f4d7c2ee4f1",
   "metadata": {},
   "outputs": [],
   "source": [
    "#iterable >> coockable"
   ]
  },
  {
   "cell_type": "code",
   "execution_count": 49,
   "id": "63abd372-c424-465c-a9f9-de03cc438f24",
   "metadata": {},
   "outputs": [
    {
     "data": {
      "text/plain": [
       "<tuple_iterator at 0x1a97eaefdf0>"
      ]
     },
     "execution_count": 49,
     "metadata": {},
     "output_type": "execute_result"
    }
   ],
   "source": [
    "a = (1,2,3)\n",
    "iter(a)"
   ]
  },
  {
   "cell_type": "code",
   "execution_count": 51,
   "id": "b108b953-1c5f-4ed2-bc65-d2e383984d3c",
   "metadata": {},
   "outputs": [
    {
     "data": {
      "text/plain": [
       "<list_iterator at 0x1a97eaeea70>"
      ]
     },
     "execution_count": 51,
     "metadata": {},
     "output_type": "execute_result"
    }
   ],
   "source": [
    "iter([1,2,3,4])"
   ]
  },
  {
   "cell_type": "code",
   "execution_count": 53,
   "id": "56017934-3719-4384-bf34-b90175e10794",
   "metadata": {},
   "outputs": [
    {
     "data": {
      "text/plain": [
       "1"
      ]
     },
     "execution_count": 53,
     "metadata": {},
     "output_type": "execute_result"
    }
   ],
   "source": [
    "a = iter([1,2,3,4])\n",
    "next(a)"
   ]
  },
  {
   "cell_type": "code",
   "execution_count": 55,
   "id": "814dc643-ab98-4379-8162-5230b08c73b3",
   "metadata": {},
   "outputs": [
    {
     "data": {
      "text/plain": [
       "2"
      ]
     },
     "execution_count": 55,
     "metadata": {},
     "output_type": "execute_result"
    }
   ],
   "source": [
    "next(a)"
   ]
  },
  {
   "cell_type": "code",
   "execution_count": 57,
   "id": "2bcfe7e8-7fb2-4f01-830f-579105703885",
   "metadata": {},
   "outputs": [
    {
     "data": {
      "text/plain": [
       "3"
      ]
     },
     "execution_count": 57,
     "metadata": {},
     "output_type": "execute_result"
    }
   ],
   "source": [
    "next(a)"
   ]
  },
  {
   "cell_type": "code",
   "execution_count": 59,
   "id": "c4f28362-f269-47dc-973d-8a2009716bfa",
   "metadata": {},
   "outputs": [
    {
     "data": {
      "text/plain": [
       "4"
      ]
     },
     "execution_count": 59,
     "metadata": {},
     "output_type": "execute_result"
    }
   ],
   "source": [
    "next(a)"
   ]
  },
  {
   "cell_type": "code",
   "execution_count": 61,
   "id": "4d2b91df-cc58-47ba-9ca1-bf4c13b3e142",
   "metadata": {},
   "outputs": [
    {
     "ename": "StopIteration",
     "evalue": "",
     "output_type": "error",
     "traceback": [
      "\u001b[1;31m---------------------------------------------------------------------------\u001b[0m",
      "\u001b[1;31mStopIteration\u001b[0m                             Traceback (most recent call last)",
      "Cell \u001b[1;32mIn[61], line 1\u001b[0m\n\u001b[1;32m----> 1\u001b[0m \u001b[38;5;28mnext\u001b[39m(a)\n",
      "\u001b[1;31mStopIteration\u001b[0m: "
     ]
    }
   ],
   "source": [
    "next(a)"
   ]
  },
  {
   "cell_type": "code",
   "execution_count": 63,
   "id": "6e5073b1-2944-400e-95fb-1ca7a87ba9c5",
   "metadata": {},
   "outputs": [
    {
     "name": "stdout",
     "output_type": "stream",
     "text": [
      "p\n",
      "w\n",
      "s\n",
      "k\n",
      "i\n",
      "l\n",
      "l\n",
      "s\n"
     ]
    }
   ],
   "source": [
    "a = \"pwskills\"\n",
    "for i in (a): # iteration is a way to know that something can be run in the loop or can be iterated\n",
    "    print(i)"
   ]
  },
  {
   "cell_type": "code",
   "execution_count": null,
   "id": "1c250fbf-174b-4785-b0d0-807b20e6f650",
   "metadata": {},
   "outputs": [],
   "source": [
    "#application of iterator is \"generator\"\n",
    "#regulat function >> takes time, consume memory"
   ]
  },
  {
   "cell_type": "code",
   "execution_count": 13,
   "id": "1365dd30-f63a-47ba-bd07-2ebcd1bce431",
   "metadata": {},
   "outputs": [],
   "source": [
    "def sqr(n):\n",
    "    for i in range(n):\n",
    "        yield i**2\n",
    "gen = sqr(6)"
   ]
  },
  {
   "cell_type": "code",
   "execution_count": 3,
   "id": "ab8015ad-9741-4f0b-a83d-a428095b5a7d",
   "metadata": {},
   "outputs": [
    {
     "data": {
      "text/plain": [
       "0"
      ]
     },
     "execution_count": 3,
     "metadata": {},
     "output_type": "execute_result"
    }
   ],
   "source": [
    "next(gen)"
   ]
  },
  {
   "cell_type": "code",
   "execution_count": 15,
   "id": "7bf2a90c-7b51-475f-91e3-ee7f4a49232d",
   "metadata": {},
   "outputs": [
    {
     "data": {
      "text/plain": [
       "0"
      ]
     },
     "execution_count": 15,
     "metadata": {},
     "output_type": "execute_result"
    }
   ],
   "source": [
    "next(gen)"
   ]
  },
  {
   "cell_type": "code",
   "execution_count": 17,
   "id": "f1867d90-13b3-4cf9-8b27-1cf89e79c91c",
   "metadata": {},
   "outputs": [
    {
     "data": {
      "text/plain": [
       "1"
      ]
     },
     "execution_count": 17,
     "metadata": {},
     "output_type": "execute_result"
    }
   ],
   "source": [
    "next(gen)"
   ]
  },
  {
   "cell_type": "code",
   "execution_count": 19,
   "id": "0d82b160-d3df-4f81-b7b3-79c35dcba576",
   "metadata": {},
   "outputs": [
    {
     "data": {
      "text/plain": [
       "4"
      ]
     },
     "execution_count": 19,
     "metadata": {},
     "output_type": "execute_result"
    }
   ],
   "source": [
    "next(gen)"
   ]
  },
  {
   "cell_type": "code",
   "execution_count": 21,
   "id": "956fa101-ef75-48ca-bf6b-8efbe18d3665",
   "metadata": {},
   "outputs": [
    {
     "data": {
      "text/plain": [
       "9"
      ]
     },
     "execution_count": 21,
     "metadata": {},
     "output_type": "execute_result"
    }
   ],
   "source": [
    "next(gen)"
   ]
  },
  {
   "cell_type": "code",
   "execution_count": 23,
   "id": "84e08bfb-9354-407a-b105-e16da176584c",
   "metadata": {},
   "outputs": [
    {
     "data": {
      "text/plain": [
       "16"
      ]
     },
     "execution_count": 23,
     "metadata": {},
     "output_type": "execute_result"
    }
   ],
   "source": [
    "next(gen)"
   ]
  },
  {
   "cell_type": "code",
   "execution_count": 25,
   "id": "139f75a9-9db7-4a47-9af4-3f2041d60764",
   "metadata": {},
   "outputs": [
    {
     "data": {
      "text/plain": [
       "25"
      ]
     },
     "execution_count": 25,
     "metadata": {},
     "output_type": "execute_result"
    }
   ],
   "source": [
    "next(gen)"
   ]
  },
  {
   "cell_type": "code",
   "execution_count": 27,
   "id": "de60848b-8d76-4ed7-98c0-36043186f7b2",
   "metadata": {},
   "outputs": [
    {
     "data": {
      "text/plain": [
       "36"
      ]
     },
     "execution_count": 27,
     "metadata": {},
     "output_type": "execute_result"
    }
   ],
   "source": [
    "next(gen)"
   ]
  },
  {
   "cell_type": "code",
   "execution_count": 29,
   "id": "8b0bed4c-5f0e-4f04-9db6-445b4499876f",
   "metadata": {},
   "outputs": [
    {
     "data": {
      "text/plain": [
       "49"
      ]
     },
     "execution_count": 29,
     "metadata": {},
     "output_type": "execute_result"
    }
   ],
   "source": [
    "next(gen)"
   ]
  },
  {
   "cell_type": "code",
   "execution_count": 31,
   "id": "30677392-dd55-4fe2-af1f-75f8c8ac0c53",
   "metadata": {},
   "outputs": [
    {
     "data": {
      "text/plain": [
       "64"
      ]
     },
     "execution_count": 31,
     "metadata": {},
     "output_type": "execute_result"
    }
   ],
   "source": [
    "next(gen)"
   ]
  },
  {
   "cell_type": "code",
   "execution_count": 33,
   "id": "65dd0834-85b3-4ec3-95f0-1f7c1c420600",
   "metadata": {},
   "outputs": [
    {
     "data": {
      "text/plain": [
       "81"
      ]
     },
     "execution_count": 33,
     "metadata": {},
     "output_type": "execute_result"
    }
   ],
   "source": [
    "next(gen)"
   ]
  },
  {
   "cell_type": "code",
   "execution_count": 37,
   "id": "e5b8a669-1ab9-4e97-a8ce-b4b115ff2c61",
   "metadata": {},
   "outputs": [
    {
     "name": "stdout",
     "output_type": "stream",
     "text": [
      "113\n"
     ]
    }
   ],
   "source": [
    "from functools import reduce\n",
    "def sum(a,b):\n",
    "    return a+b\n",
    "numbers= [47,11,42,13]\n",
    "result = reduce(sum,numbers)\n",
    "print(result)\n"
   ]
  },
  {
   "cell_type": "code",
   "execution_count": null,
   "id": "60042b94-af32-46d9-a365-249544b188a6",
   "metadata": {},
   "outputs": [],
   "source": []
  },
  {
   "cell_type": "code",
   "execution_count": null,
   "id": "65340192-5ec4-4023-907c-072275f8fc32",
   "metadata": {},
   "outputs": [],
   "source": []
  },
  {
   "cell_type": "code",
   "execution_count": null,
   "id": "91812413-247c-45b2-89e9-27d92d005c58",
   "metadata": {},
   "outputs": [],
   "source": []
  },
  {
   "cell_type": "code",
   "execution_count": null,
   "id": "3b91d42a-546e-483e-9dde-5c0f189c5b2e",
   "metadata": {},
   "outputs": [],
   "source": []
  },
  {
   "cell_type": "code",
   "execution_count": null,
   "id": "afbaffed-e4a9-4ee1-9c61-25d157a38e5e",
   "metadata": {},
   "outputs": [],
   "source": []
  },
  {
   "cell_type": "code",
   "execution_count": null,
   "id": "1a6635b9-0aeb-44b2-96bc-e8e2d035a606",
   "metadata": {},
   "outputs": [],
   "source": []
  },
  {
   "cell_type": "code",
   "execution_count": null,
   "id": "786e637b-95b1-46b5-adb4-2cb814aa8990",
   "metadata": {},
   "outputs": [],
   "source": []
  },
  {
   "cell_type": "code",
   "execution_count": null,
   "id": "f640055b-87cb-49a9-8ed0-dcd43a27a676",
   "metadata": {},
   "outputs": [],
   "source": []
  },
  {
   "cell_type": "code",
   "execution_count": null,
   "id": "2358bee8-865f-489f-b639-3e0266a64833",
   "metadata": {},
   "outputs": [],
   "source": []
  },
  {
   "cell_type": "code",
   "execution_count": null,
   "id": "755b430f-8632-4d83-968c-a3299376937f",
   "metadata": {},
   "outputs": [],
   "source": []
  },
  {
   "cell_type": "code",
   "execution_count": null,
   "id": "5a3ae324-87dd-47b3-b764-07550f4145c4",
   "metadata": {},
   "outputs": [],
   "source": []
  },
  {
   "cell_type": "code",
   "execution_count": null,
   "id": "a34b4023-94e3-4cab-b5a1-43dfc5d23145",
   "metadata": {},
   "outputs": [],
   "source": []
  },
  {
   "cell_type": "code",
   "execution_count": null,
   "id": "769c2372-a1b4-4115-8a76-a2cc88599a84",
   "metadata": {},
   "outputs": [],
   "source": []
  },
  {
   "cell_type": "code",
   "execution_count": null,
   "id": "3c4ee674-43fa-4b10-90f9-805fcf0e903e",
   "metadata": {},
   "outputs": [],
   "source": []
  }
 ],
 "metadata": {
  "kernelspec": {
   "display_name": "Python [conda env:base] *",
   "language": "python",
   "name": "conda-base-py"
  },
  "language_info": {
   "codemirror_mode": {
    "name": "ipython",
    "version": 3
   },
   "file_extension": ".py",
   "mimetype": "text/x-python",
   "name": "python",
   "nbconvert_exporter": "python",
   "pygments_lexer": "ipython3",
   "version": "3.12.7"
  }
 },
 "nbformat": 4,
 "nbformat_minor": 5
}
